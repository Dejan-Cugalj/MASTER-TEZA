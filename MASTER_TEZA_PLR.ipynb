{
  "nbformat": 4,
  "nbformat_minor": 0,
  "metadata": {
    "colab": {
      "name": "MASTER TEZA - PLR.ipynb",
      "provenance": [],
      "collapsed_sections": [
        "O36DtQKaLKtF",
        "69XrjpQGMI7A"
      ],
      "toc_visible": true,
      "mount_file_id": "1E2WzH0WDqnWYxztjOJ8EkaSrEtWseN58",
      "authorship_tag": "ABX9TyO4wiSpscvyRZvp5o0gi8qp",
      "include_colab_link": true
    },
    "kernelspec": {
      "name": "python3",
      "display_name": "Python 3"
    },
    "language_info": {
      "name": "python"
    }
  },
  "cells": [
    {
      "cell_type": "markdown",
      "metadata": {
        "id": "view-in-github",
        "colab_type": "text"
      },
      "source": [
        "<a href=\"https://colab.research.google.com/github/Dejan-Cugalj/MASTER-TEZA/blob/main/MASTER_TEZA_PLR.ipynb\" target=\"_parent\"><img src=\"https://colab.research.google.com/assets/colab-badge.svg\" alt=\"Open In Colab\"/></a>"
      ]
    },
    {
      "cell_type": "markdown",
      "metadata": {
        "id": "xEEqBIIUIBzf"
      },
      "source": [
        "# **\"Predikcija ispravnog očitavanje senzora mase protoka vazduha motora automobila\"**\n",
        "## *MASTER TEZA*\n",
        "---\n",
        "\n",
        "#### Mentori:\n",
        "#### ***Prof. dr. Marina Marjanović Jakovljević***\n",
        "####***Prof. dr. Miodrag Živković***\n",
        "### Student: **Dejan Čugalj (2019/430054)**\n"
      ]
    },
    {
      "cell_type": "markdown",
      "metadata": {
        "id": "5mrypIt2K6lU"
      },
      "source": [
        "---\n",
        "#Prosta Linearna Regresija (PLR)\n",
        "---"
      ]
    },
    {
      "cell_type": "markdown",
      "metadata": {
        "id": "O36DtQKaLKtF"
      },
      "source": [
        ">### 1.0 - Učitavanje potrebnih biblioteka\n"
      ]
    },
    {
      "cell_type": "code",
      "metadata": {
        "id": "HG3mM3w4GSAl"
      },
      "source": [
        "from google.colab import drive\n",
        "drive.mount('/content/drive')"
      ],
      "execution_count": null,
      "outputs": []
    },
    {
      "cell_type": "code",
      "metadata": {
        "colab": {
          "base_uri": "https://localhost:8080/"
        },
        "id": "ZVa5pqCzKKP8",
        "outputId": "3edec8ba-85f6-469d-a2e4-2a37494faab7"
      },
      "source": [
        "# Sistemske\n",
        "import datetime, os, time\n",
        "# Numerika\n",
        "import numpy as np\n",
        "import pandas as pd\n",
        "import pandas.util.testing as tm\n",
        "from sklearn.preprocessing import StandardScaler\n",
        "# Linearna Regresija\n",
        "from sklearn.linear_model import LinearRegression\n",
        "from sklearn.ensemble import RandomForestRegressor, AdaBoostRegressor\n",
        "from sklearn.tree import DecisionTreeRegressor\n",
        "#Evaluacija\n",
        "import seaborn as sns\n",
        "from sklearn.metrics import accuracy_score\n",
        "from sklearn.metrics import mean_squared_error, r2_score, explained_variance_score\n",
        "import statsmodels.api as sm\n",
        "#Grafika\n",
        "import matplotlib.pyplot as plt\n",
        "import seaborn as sns\n",
        "\n",
        "%matplotlib inline\n",
        "print(\"*********** Učitane Biblioteke... ********************\\n\")"
      ],
      "execution_count": 3,
      "outputs": [
        {
          "output_type": "stream",
          "text": [
            "*********** Učitane Biblioteke... ********************\n",
            "\n"
          ],
          "name": "stdout"
        }
      ]
    },
    {
      "cell_type": "markdown",
      "metadata": {
        "id": "69XrjpQGMI7A"
      },
      "source": [
        ">### 2.0 - Učitavanje skupa podataka (eng *dataset*)\n",
        "\n",
        "[Preuzimanje skupa podataka](https://github.com/Dejan-Cugalj/CANBUS_dataset/blob/main/golf-master-canbus_dataset.csv)\n"
      ]
    },
    {
      "cell_type": "code",
      "metadata": {
        "colab": {
          "base_uri": "https://localhost:8080/"
        },
        "id": "DddjZJF9MR18",
        "outputId": "ca5ce189-a814-4977-b0d9-713a75059566"
      },
      "source": [
        "url = '/content/drive/MyDrive/FAKULTET/MASTER STUDIJE/MASTER TEZA-RAD/MATERIJAL/AI/1-PLR/golf-master-canbus_dataset.csv' # Uneti putanju do preuzetog dataseta\n",
        "print(\"*********** Ucitan DATASET... ********************\\n\")"
      ],
      "execution_count": 4,
      "outputs": [
        {
          "output_type": "stream",
          "text": [
            "*********** Ucitan DATASET... ********************\n",
            "\n"
          ],
          "name": "stdout"
        }
      ]
    },
    {
      "cell_type": "markdown",
      "metadata": {
        "id": "dG4WFRLO0G1S"
      },
      "source": [
        ">### 3. Preprocesuiranje podataka"
      ]
    },
    {
      "cell_type": "markdown",
      "metadata": {
        "id": "JM48Mk2pzzud"
      },
      "source": [
        "> **LEGENDA DATASETA:**\n",
        "\n",
        "*   **RPM** - **R**EVOLUTIONS **P**ER **M**INUTE sensor\n",
        "*   **MAP** - **M**ANIFOLD **A**BSOLUTE **P**RESSURE sensor\n",
        "*   **FGP** - **F**UEL **G**AUGE **P**RESSURE sensor\n",
        "*   **IAT** - **I**NTAKE **A**IR **T**EMPERATURE sensor\n",
        "*   **ECT** - **E**NGINE **C**OOLANT **T**EMPERATURE sensor\n",
        "*   **CEL** - **C**ALCULATED **E**NGINE **L**OAD\n",
        "*   **ABP** - **A**BSOLUTE **B**AROMETRIC **P**RESSURE\n",
        "*   **MAF** - **M**ASS **A**IR **F**LOW sensor \n",
        "\n",
        "\n",
        "\n",
        "\n",
        "\n",
        "\n"
      ]
    },
    {
      "cell_type": "code",
      "metadata": {
        "colab": {
          "base_uri": "https://localhost:8080/"
        },
        "id": "4Wvc_GoZxQSb",
        "outputId": "6e2cf2ec-3539-48bb-b450-8ad46f8faac4"
      },
      "source": [
        "\n",
        "dataset = pd.read_csv(url ,sep=',', usecols = ['RPM', 'MAP', 'FGP', 'MAF'])\n",
        "dataset.columns=['RPM', 'MAP', 'FGP', 'MAF']\n",
        " \n",
        "print(\"*********** DATASET ********************\\n\")\n",
        "print(dataset.head(10))"
      ],
      "execution_count": 6,
      "outputs": [
        {
          "output_type": "stream",
          "text": [
            "*********** DATASET ********************\n",
            "\n",
            "      RPM  MAP    FGP    MAF\n",
            "0  946.00   87  23580  11.42\n",
            "1  947.00   87  23730  11.52\n",
            "2  950.75   87  25820  11.87\n",
            "3  945.50   87  24510  11.26\n",
            "4  951.25   87  25050  11.38\n",
            "5  950.00   87  26700  11.90\n",
            "6  949.50   87  25870  10.98\n",
            "7  949.00   87  26180  11.44\n",
            "8  951.00   87  26810  11.05\n",
            "9  949.25   87  25930  11.41\n"
          ],
          "name": "stdout"
        }
      ]
    },
    {
      "cell_type": "markdown",
      "metadata": {
        "id": "kLbdhmH401Ux"
      },
      "source": [
        "> #### 3.1 Kreiranje Pandas Data-Frejma"
      ]
    },
    {
      "cell_type": "code",
      "metadata": {
        "colab": {
          "base_uri": "https://localhost:8080/"
        },
        "id": "yzPJrgDsyHgf",
        "outputId": "4303439b-4632-405d-a4a2-5fc322b155cc"
      },
      "source": [
        "# Odbacivanje obeležija koje nisu u korelaciji\n",
        "#dataset.drop(['IAT', 'ECT', 'CEL', 'ABP'], axis=1, inplace=True)\n",
        " \n",
        "X = dataset.iloc[:, :-1].values # Alokacija Matrice Obeležija / Nezavisnih Promenjivih (eng. Independent variables)\n",
        "y = dataset.iloc[:, -1].values # Alokacija Zavisne Promenjive (eng. Dependent variable) MAF sernzora automobila\n",
        "print(\"**************************************************************\")\n",
        "print(\"**************** KREIRAN PANDAs DATA FREJM ******************\")\n",
        "print(\"**************************************************************\\n\")\n",
        "print(\"*************************   X   ************************\\n\")\n",
        "print(X)\n",
        "print(\"\\n\\n\\n*************************   y   ************************\\n\")\n",
        "print(y)"
      ],
      "execution_count": 7,
      "outputs": [
        {
          "output_type": "stream",
          "text": [
            "**************************************************************\n",
            "**************** KREIRAN PANDAs DATA FREJM ******************\n",
            "**************************************************************\n",
            "\n",
            "*************************   X   ************************\n",
            "\n",
            "[[  946.      87.   23580.  ]\n",
            " [  947.      87.   23730.  ]\n",
            " [  950.75    87.   25820.  ]\n",
            " ...\n",
            " [  878.75    87.   24510.  ]\n",
            " [  879.25    87.   26730.  ]\n",
            " [  878.75    87.   23680.  ]]\n",
            "\n",
            "\n",
            "\n",
            "*************************   y   ************************\n",
            "\n",
            "[11.42 11.52 11.87 ...  9.41  9.5   9.57]\n"
          ],
          "name": "stdout"
        }
      ]
    }
  ]
}